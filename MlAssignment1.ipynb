{
 "cells": [
  {
   "cell_type": "code",
   "execution_count": 1,
   "id": "7b08738d",
   "metadata": {},
   "outputs": [
    {
     "name": "stdout",
     "output_type": "stream",
     "text": [
      "After Sorting the list:  [19, 19, 20, 22, 24, 24, 24, 25, 25, 26]\n",
      "Minimum value in list :  19 \n",
      "Maximum value in list :  26\n",
      "After appending the list: [19, 19, 20, 22, 24, 24, 24, 25, 25, 26, 19, 26]\n",
      "Median of the list: 24.0\n",
      "Average of the list :  22.75\n",
      "Range of the list : 7\n"
     ]
    }
   ],
   "source": [
    "import statistics\n",
    "Ages = [19, 22, 19, 24, 20, 25, 26, 24, 25, 24]\n",
    "\n",
    "#Sort the list and find the min and max age\n",
    "Ages.sort()\n",
    "print(\"After Sorting the list: \", Ages)\n",
    "\n",
    "#Add the min age and the max age again to the list\n",
    "Min = min(Ages)\n",
    "Max = max(Ages)\n",
    "print(\"Minimum value in list : \" , Min ,\"\\n\"  \"Maximum value in list : \" , Max)\n",
    "Ages.append(Min) #Appending\n",
    "Ages.append(Max)\n",
    "print(\"After appending the list:\", Ages)\n",
    "\n",
    "#Find the median age\n",
    "Med = statistics.median(Ages)\n",
    "print(\"Median of the list:\", Med)\n",
    "\n",
    "#Find the average age\n",
    "Sum = sum(Ages);\n",
    "Length = len(Ages);\n",
    "Average = Sum/Length;\n",
    "print(\"Average of the list : \", Average);\n",
    "\n",
    "#Range\n",
    "Range = Max - Min;\n",
    "print(\"Range of the list :\", Range);"
   ]
  },
  {
   "cell_type": "code",
   "execution_count": 13,
   "id": "a6655d07",
   "metadata": {},
   "outputs": [
    {
     "name": "stdout",
     "output_type": "stream",
     "text": [
      "Length of the Student dictionary is : 9\n",
      "Skills of the student are : ['C', 'Java', 'Python', 'MySQL']\n",
      "Datatype of the skills is : <class 'list'>\n",
      "Modified skills in the list are : ['C', 'Java', 'Python', 'MySQL', 'HTML', 'Azure Sentinel']\n",
      "Keys in the student dictionary are : ['First_name', 'Last_name', 'Gender', 'Age', 'Marital status', 'Skills', 'Country', 'City', 'Address']\n",
      "values in the student dictionary are : ['Rupa', 'Mallempati', 'Female', '23', 'Unmarried', ['C', 'Java', 'Python', 'MySQL', 'HTML', 'Azure Sentinel'], 'India', 'Hyderabad', 'Khammam, 533105']\n"
     ]
    }
   ],
   "source": [
    "#Create an empty dictionary called dog\n",
    "Dog = {}\n",
    "#Add name, color, breed, legs, age to the dog dictionary\n",
    "Dog.update({'Name' : 'Vikky','Color' : 'Black','Breed' : 'Shitzu','Legs' : '4','Age' : '4'})\n",
    "\n",
    "#Create a student dictionary and add first_name, last_name, gender, age, marital status, skills, country, city and address as keys for the dictionary\n",
    "Student = {'First_name' : 'Rupa',\n",
    "           'Last_name' : 'Mallempati',\n",
    "           'Gender' : 'Female',\n",
    "           'Age' : '23',\n",
    "           'Marital status' : 'Unmarried',\n",
    "           'Skills' : [\"C\",\"Java\",\"Python\",\"MySQL\"],\n",
    "           'Country' : 'India',\n",
    "           'City' : 'Hyderabad', 'Address' : 'Khammam, 533105'}\n",
    "\n",
    "#Get the length of the student dictionary\n",
    "print(\"Length of the Student dictionary is :\", len(Student))\n",
    "\n",
    "#Get the value of skills and check the data type, it should be a list\n",
    "print(\"Skills of the student are :\", Student['Skills'])\n",
    "print(\"Datatype of the skills is :\", type(Student['Skills']))\n",
    "\n",
    "#Modify the skills values by adding one or two skills\n",
    "Student['Skills'].extend([\"HTML\", \"Azure Sentinel\"])\n",
    "print(\"Modified skills in the list are :\", Student['Skills'])\n",
    "\n",
    "#Get the dictionary keys as a list\n",
    "print(\"Keys in the student dictionary are :\", list(Student.keys()))\n",
    "#Get the dictionary values as a list\n",
    "print(\"values in the student dictionary are :\", list(Student.values()))"
   ]
  },
  {
   "cell_type": "code",
   "execution_count": 14,
   "id": "850b946a",
   "metadata": {},
   "outputs": [
    {
     "name": "stdout",
     "output_type": "stream",
     "text": [
      "Sister names:  ('Sindhu', 'Chaithu', 'Sravani', 'Anusha', 'Anvi')\n",
      "Brother names:  ('Rajesh', 'Vishal', 'Akash', 'Sandeep')\n",
      "After join brothers and sisters in a tuple:  ('Sindhu', 'Chaithu', 'Sravani', 'Anusha', 'Anvi', 'Rajesh', 'Vishal', 'Akash', 'Sandeep')\n",
      "Number of Siblings:  9\n",
      "After appending father and mother name:  ('Sindhu', 'Chaithu', 'Sravani', 'Anusha', 'Anvi', 'Rajesh', 'Vishal', 'Akash', 'Sandeep', 'SrinivasaRao', 'Triveni')\n"
     ]
    }
   ],
   "source": [
    "#Create a tuple containing names of your sisters and your brothers (imaginary siblings are fine)\n",
    "Sisters = (\"Sindhu\", \"Chaithu\", \"Sravani\", \"Anusha\", \"Anvi\")\n",
    "Brothers = (\"Rajesh\", \"Vishal\",\"Akash\", \"Sandeep\")\n",
    "print(\"Sister names: \", Sisters)\n",
    "print(\"Brother names: \", Brothers)\n",
    "\n",
    "#Join brothers and sisters tuples and assign it to siblings\n",
    "Siblings = Sisters + Brothers\n",
    "print(\"After join brothers and sisters in a tuple: \", Siblings)\n",
    "\n",
    "#How many siblings do you have?\n",
    "Count= len(Siblings)\n",
    "print(\"Number of Siblings: \", Count)\n",
    "\n",
    "#Modify the siblings tuple and add the name of your father and mother and assign it to family_members\n",
    "Mother = \"Triveni\"\n",
    "Father= \"SrinivasaRao\"\n",
    "family_members = list(Siblings)\n",
    "family_members.append(Father)\n",
    "family_members.append(Mother)\n",
    "family_members=tuple(family_members)\n",
    "print(\"After appending father and mother name: \", family_members)"
   ]
  },
  {
   "cell_type": "code",
   "execution_count": 4,
   "id": "81300d5a",
   "metadata": {},
   "outputs": [
    {
     "name": "stdout",
     "output_type": "stream",
     "text": [
      "The length of set is: 7\n",
      "{'Oracle', 'Amazon', 'IBM', 'Google', 'Apple', 'Microsoft', 'Twitter', 'Facebook'}\n",
      "{'Samsung', 'IBM', 'Twitter', 'Apple', 'Oracle', 'Microsoft', 'Deloitte', 'Facebook', 'Amazon', 'Tesla', 'Google', 'Meta'}\n",
      "{'IBM', 'Twitter', 'Apple', 'Oracle', 'Microsoft', 'Deloitte', 'Facebook', 'Amazon', 'Tesla', 'Google', 'Meta'}\n",
      "After joining A and B:  {19, 20, 22, 24, 25, 26, 27, 28}\n",
      "After intersecting A and B:  {19, 20, 22, 24, 25, 26}\n",
      "Is A subset of B? True\n",
      "Are A and B disjoint sets?  False\n",
      "After joining A With B:  {19, 20, 22, 24, 25, 26, 27, 28} and joining B with A:  {19, 20, 22, 24, 25, 26, 27, 28}\n",
      "Symmetric difference between A and B: {27, 28}\n",
      "Is length of list and set is same : False\n"
     ]
    }
   ],
   "source": [
    "IT_Companies = {'Facebook', 'Google', 'Microsoft', 'Apple', 'IBM', 'Oracle', 'Amazon'}\n",
    "A = {19, 22, 24, 20, 25, 26}\n",
    "B = {19, 22, 20, 25, 26, 24, 28, 27}\n",
    "Age = [22, 19, 24, 25, 26, 24, 25, 24]\n",
    "\n",
    "#Find the length of the set it_companies\n",
    "print(\"The length of set is:\", len(IT_Companies))\n",
    "\n",
    "#Add 'Twitter' to it_companies\n",
    "IT_Companies.add(\"Twitter\")\n",
    "print(IT_Companies)\n",
    "\n",
    "#Insert multiple IT companies at once to the set it_companies\n",
    "Multiple_ITcompanies= [\"Soceite\",\"Samsung\", \"Deloitte\", \"Meta\"]\n",
    "IT_Companies.update(Multiple_ITcompanies)\n",
    "print(IT_Companies)\n",
    "\n",
    "#Remove one of the companies from the set it_companies\n",
    "IT_Companies.remove(\"Samsung\")\n",
    "print(IT_Companies)\n",
    "\n",
    "#What is the difference between remove and discard\n",
    "#Remove: If the item to remove does not exist, remove() will raise an error\n",
    "#Discard: If the item to remove does not exist, discard() will NOT raise an error\n",
    "\n",
    "#Join A and B\n",
    "C = A.union(B)\n",
    "print(\"After joining A and B: \", C)\n",
    "\n",
    "#Find A intersection B\n",
    "D = A.intersection(B)\n",
    "print(\"After intersecting A and B: \", D)\n",
    "\n",
    "#Is A subset of B\n",
    "E = A.issubset(B)s\n",
    "print(\"Is A subset of B?\", E)\n",
    "\n",
    "#Are A and B disjoint sets\n",
    "F = A.isdisjoint(B)\n",
    "print(\"Are A and B disjoint sets? \", F)\n",
    "\n",
    "#Join A with B and B with A\n",
    "G = B.union(A)\n",
    "print(\"After joining A With B: \",C, \"and joining B with A: \",G)\n",
    "\n",
    "#What is the symmetric difference between A and B\n",
    "H = A.symmetric_difference(B)\n",
    "print(\"Symmetric difference between A and B:\", H)\n",
    "\n",
    "#Delete the sets completely\n",
    "del A,B\n",
    "#print(B)\n",
    "\n",
    "#Convert the ages to a set and compare the length of the list and the set\n",
    "I = set(Age)\n",
    "print(\"Is length of list and set is same :\", len(I)==len(Age))"
   ]
  },
  {
   "cell_type": "code",
   "execution_count": 5,
   "id": "ef79bcd0",
   "metadata": {},
   "outputs": [
    {
     "name": "stdout",
     "output_type": "stream",
     "text": [
      "Area of the circle is:  2826.0\n",
      "Circumference of the circle is:  188.4\n",
      "Enter the radius of the circle : 5\n",
      "The area of the circle is 78.5\n"
     ]
    }
   ],
   "source": [
    "radius = 30\n",
    "pi = 3.14\n",
    "\n",
    "#Calculate the area of a circle\n",
    "_area_of_circle_= pi*radius*radius\n",
    "print(\"Area of the circle is: \", _area_of_circle_)\n",
    "\n",
    "#Calculate the circumference of a circle\n",
    "_circum_of_circle_= 2*pi*radius\n",
    "print(\"Circumference of the circle is: \", _circum_of_circle_)\n",
    "\n",
    "#Take radius as user input and calculate the area\n",
    "radius = float(input (\"Enter the radius of the circle : \"))\n",
    "Area= pi*radius*radius\n",
    "print (\"The area of the circle is\", Area)"
   ]
  },
  {
   "cell_type": "code",
   "execution_count": 6,
   "id": "4d35db24",
   "metadata": {},
   "outputs": [
    {
     "name": "stdout",
     "output_type": "stream",
     "text": [
      "Unique words in a set: {'to', 'teacher', 'am', 'teach', 'I', 'people', 'and', 'inspire', 'a', 'love'}\n"
     ]
    }
   ],
   "source": [
    "#Printing unique_words\n",
    "String =  \"I am a teacher and I love to inspire and teach people\"\n",
    "Unique_words=set(String.split(\" \"))\n",
    "print(\"Unique words in a set:\",Unique_words)"
   ]
  },
  {
   "cell_type": "code",
   "execution_count": 7,
   "id": "4c826c5e",
   "metadata": {},
   "outputs": [
    {
     "name": "stdout",
     "output_type": "stream",
     "text": [
      "Name\t\tAge\t\tCountry\t\tCity\n",
      "Asabeneh\t250\t\tFinland\t\tHelsinki\n"
     ]
    }
   ],
   "source": [
    "#Sequence priting\n",
    "print(\"Name\\t\\tAge\\t\\tCountry\\t\\tCity\\nAsabeneh\\t250\\t\\tFinland\\t\\tHelsinki\")"
   ]
  },
  {
   "cell_type": "code",
   "execution_count": 8,
   "id": "8d9bedf5",
   "metadata": {},
   "outputs": [
    {
     "name": "stdout",
     "output_type": "stream",
     "text": [
      "The area of a circle with radius 10 is 314 sq.meters\n"
     ]
    }
   ],
   "source": [
    "radius = 10\n",
    "area = 3.14 * radius ** 2\n",
    "print(\"The area of a circle with radius {} is {} sq.meters\".format(radius, int(area)))"
   ]
  },
  {
   "cell_type": "code",
   "execution_count": 11,
   "id": "058a2065",
   "metadata": {},
   "outputs": [
    {
     "name": "stdout",
     "output_type": "stream",
     "text": [
      "Number of  students:1\n",
      "10\n",
      "[4.53]\n"
     ]
    }
   ],
   "source": [
    "import math\n",
    "Num = int(input(\"Number of  students:\"))\n",
    "Lbs=[]\n",
    "Wts=[]\n",
    "for i in range(Num):\n",
    "    Lbs.append(int(input()))\n",
    "for b in Lbs:\n",
    "    a=(math.floor((b/2.2046) * 100 ) )/ 100;\n",
    "    Wts.append(a)\n",
    "print(Wts)"
   ]
  },
  {
   "cell_type": "code",
   "execution_count": null,
   "id": "20155848",
   "metadata": {},
   "outputs": [],
   "source": []
  }
 ],
 "metadata": {
  "kernelspec": {
   "display_name": "Python 3 (ipykernel)",
   "language": "python",
   "name": "python3"
  },
  "language_info": {
   "codemirror_mode": {
    "name": "ipython",
    "version": 3
   },
   "file_extension": ".py",
   "mimetype": "text/x-python",
   "name": "python",
   "nbconvert_exporter": "python",
   "pygments_lexer": "ipython3",
   "version": "3.9.13"
  }
 },
 "nbformat": 4,
 "nbformat_minor": 5
}
